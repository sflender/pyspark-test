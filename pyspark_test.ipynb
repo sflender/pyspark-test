{
 "cells": [
  {
   "cell_type": "code",
   "execution_count": 1,
   "metadata": {},
   "outputs": [
    {
     "data": {
      "text/html": [
       "\n",
       "        <div>\n",
       "            <p><b>SparkContext</b></p>\n",
       "\n",
       "            <p><a href=\"http://macbook-pro.localdomain:4040\">Spark UI</a></p>\n",
       "\n",
       "            <dl>\n",
       "              <dt>Version</dt>\n",
       "                <dd><code>v2.3.1</code></dd>\n",
       "              <dt>Master</dt>\n",
       "                <dd><code>local[*]</code></dd>\n",
       "              <dt>AppName</dt>\n",
       "                <dd><code>PySparkShell</code></dd>\n",
       "            </dl>\n",
       "        </div>\n",
       "        "
      ],
      "text/plain": [
       "<SparkContext master=local[*] appName=PySparkShell>"
      ]
     },
     "execution_count": 1,
     "metadata": {},
     "output_type": "execute_result"
    }
   ],
   "source": [
    "# playing around with some features in spark.\n",
    "# first,make sure spark context variable sc is available\n",
    "sc"
   ]
  },
  {
   "cell_type": "code",
   "execution_count": 18,
   "metadata": {},
   "outputs": [
    {
     "name": "stdout",
     "output_type": "stream",
     "text": [
      "8\n",
      "[0, 1, 4]\n",
      "[0, 1, 4, 9, 16, 25, 36, 49]\n",
      "140\n"
     ]
    }
   ],
   "source": [
    "# create a simple RDD and apply some simple tranformations: all squares smaller than 50\n",
    "rdd = sc.parallelize(range(100)).map(lambda x: x**2).filter(lambda x: x<50)\n",
    "\n",
    "# count the number of elements\n",
    "print ( rdd.count() )\n",
    "\n",
    "# get the first few elements\n",
    "print ( rdd.take(3) )\n",
    "\n",
    "# print the first few elements\n",
    "print ( rdd.collect() )\n",
    "\n",
    "# reduce the rdd\n",
    "print ( rdd.reduce(lambda x,y: x+y) )"
   ]
  },
  {
   "cell_type": "code",
   "execution_count": 20,
   "metadata": {},
   "outputs": [
    {
     "name": "stdout",
     "output_type": "stream",
     "text": [
      "['Barack Obama', 'Family of Barack Obama', 'Barack Obama Sr.', 'List of people granted executive clemency by Barack Obama', 'Barack Obama \"Hope\" poster', 'List of most-liked tweets', 'Barack (disambiguation)', 'Barack Obama religion conspiracy theories', 'Presidency of Barack Obama', 'Barack Obama citizenship conspiracy theories']\n",
      "['Donald Trump', 'Trump', 'Melania Trump', 'Tiffany Trump', 'Fred Trump', 'Ivanka Trump', 'Trump tariffs', 'Ivana Trump', 'The Trump Organization', 'Mary Anne MacLeod Trump']\n"
     ]
    }
   ],
   "source": [
    "# now get some data from wikipedia\n",
    "import wikipedia\n",
    "print ( wikipedia.search(\"Barack\") )\n",
    "print ( wikipedia.search(\"Trump\") )"
   ]
  },
  {
   "cell_type": "code",
   "execution_count": 82,
   "metadata": {},
   "outputs": [
    {
     "data": {
      "text/plain": [
       "[('the', 748),\n",
       " ('of', 397),\n",
       " ('and', 396),\n",
       " ('in', 393),\n",
       " ('to', 350),\n",
       " ('Obama', 270),\n",
       " ('a', 250),\n",
       " ('his', 133),\n",
       " ('for', 131),\n",
       " ('on', 120)]"
      ]
     },
     "execution_count": 82,
     "metadata": {},
     "output_type": "execute_result"
    }
   ],
   "source": [
    "# what are the top words in the Obama wikipedia article?\n",
    "data = wikipedia.page(\"Barack Obama\")\n",
    "rdd = sc.parallelize(data.content.split())\n",
    "counts_obama = rdd.map(lambda word: (word, 1))\\\n",
    "                .reduceByKey(lambda a, b: a + b)\\\n",
    "                .filter(lambda x: x[1]>10)\n",
    "counts_obama.takeOrdered(10, key=lambda x: -x[1])"
   ]
  },
  {
   "cell_type": "code",
   "execution_count": 83,
   "metadata": {},
   "outputs": [
    {
     "data": {
      "text/plain": [
       "[('the', 739),\n",
       " ('and', 417),\n",
       " ('Trump', 362),\n",
       " ('of', 362),\n",
       " ('in', 356),\n",
       " ('to', 326),\n",
       " ('a', 252),\n",
       " ('his', 195),\n",
       " ('that', 163),\n",
       " ('he', 139)]"
      ]
     },
     "execution_count": 83,
     "metadata": {},
     "output_type": "execute_result"
    }
   ],
   "source": [
    "data = wikipedia.page(\"Donald Trump\")\n",
    "rdd = sc.parallelize(data.content.split())\n",
    "counts_trump = rdd.map(lambda word: (word, 1)).reduceByKey(lambda a, b: a + b).filter(lambda x: x[1]>10)\n",
    "counts_trump.takeOrdered(10, key=lambda x: -x[1])"
   ]
  },
  {
   "cell_type": "code",
   "execution_count": 84,
   "metadata": {},
   "outputs": [
    {
     "data": {
      "text/plain": [
       "['2017',\n",
       " 'Miss',\n",
       " 'According',\n",
       " 'Russian',\n",
       " 'Fred',\n",
       " 'other',\n",
       " 'are',\n",
       " 'real',\n",
       " 'media',\n",
       " 'election']"
      ]
     },
     "execution_count": 84,
     "metadata": {},
     "output_type": "execute_result"
    }
   ],
   "source": [
    "# words that describe Trump and not Obama:\n",
    "counts_trump.keys().subtract(counts_obama.keys()).take(10)"
   ]
  },
  {
   "cell_type": "code",
   "execution_count": null,
   "metadata": {},
   "outputs": [],
   "source": []
  }
 ],
 "metadata": {
  "kernelspec": {
   "display_name": "Python 3",
   "language": "python",
   "name": "python3"
  },
  "language_info": {
   "codemirror_mode": {
    "name": "ipython",
    "version": 3
   },
   "file_extension": ".py",
   "mimetype": "text/x-python",
   "name": "python",
   "nbconvert_exporter": "python",
   "pygments_lexer": "ipython3",
   "version": "3.6.5"
  }
 },
 "nbformat": 4,
 "nbformat_minor": 2
}
